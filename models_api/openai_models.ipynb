{
 "cells": [
  {
   "cell_type": "code",
   "execution_count": 2,
   "metadata": {},
   "outputs": [
    {
     "name": "stdout",
     "output_type": "stream",
     "text": [
      "Full response received 1.91 seconds after request\n",
      "Full response received:\n",
      "ChatCompletion(id='chatcmpl-BHZUM7MsG0cdRToQbk49XazMjRmJq', choices=[Choice(finish_reason='stop', index=0, logprobs=None, message=ChatCompletionMessage(content='10的阶乘是 3628800。', refusal=None, role='assistant', annotations=None, audio=None, function_call=None, tool_calls=None))], created=1743527729, model='gpt-3.5-turbo-0125', object='chat.completion', service_tier=None, system_fingerprint='fp_0165350fbb', usage=CompletionUsage(completion_tokens=12, prompt_tokens=18, total_tokens=30, completion_tokens_details=None, prompt_tokens_details=None))\n",
      "Extracted reply: \n",
      "ChatCompletionMessage(content='10的阶乘是 3628800。', refusal=None, role='assistant', annotations=None, audio=None, function_call=None, tool_calls=None)\n",
      "Extracted content: \n",
      "10的阶乘是 3628800。\n"
     ]
    }
   ],
   "source": [
    "# imports\n",
    "import time  # for measuring time duration of API calls\n",
    "\n",
    "from openai import OpenAI\n",
    "\n",
    "client = OpenAI(api_key=\"sk-V6h99UA0kfE879JF87034f0c25D74d6681E1A4B8F6Dc553e\",\n",
    "                base_url=\"https://api.aigc369.com/v1\")\n",
    "\n",
    "\n",
    "# client = OpenAI(api_key=os.environ.get(\"OPENAI_API_KEY\", \"<your OpenAI API key if not set as env var>\"))\n",
    "\n",
    "# Example of an OpenAI ChatCompletion request\n",
    "# https://platform.openai.com/docs/guides/text-generation/chat-completions-api\n",
    "\n",
    "# record the time before the request is sent\n",
    "start_time = time.time()\n",
    "\n",
    "# send a ChatCompletion request to count to 100\n",
    "response = client.chat.completions.create(\n",
    "    model='gpt-3.5-turbo',\n",
    "    messages=[\n",
    "        {'role': 'user', 'content': '10的阶乘是什么？'}\n",
    "    ],\n",
    "    temperature=0.8,\n",
    ")\n",
    "# calculate the time it took to receive the response\n",
    "response_time = time.time() - start_time\n",
    "\n",
    "# print the time delay and text received\n",
    "print(f\"Full response received {response_time:.2f} seconds after request\")\n",
    "print(f\"Full response received:\\n{response}\")\n",
    "\n",
    "\n",
    "reply = response.choices[0].message\n",
    "print(f\"Extracted reply: \\n{reply}\")\n",
    "\n",
    "reply_content = response.choices[0].message.content\n",
    "print(f\"Extracted content: \\n{reply_content}\")\n"
   ]
  }
 ],
 "metadata": {
  "kernelspec": {
   "display_name": "codespans",
   "language": "python",
   "name": "python3"
  },
  "language_info": {
   "codemirror_mode": {
    "name": "ipython",
    "version": 3
   },
   "file_extension": ".py",
   "mimetype": "text/x-python",
   "name": "python",
   "nbconvert_exporter": "python",
   "pygments_lexer": "ipython3",
   "version": "3.10.16"
  }
 },
 "nbformat": 4,
 "nbformat_minor": 2
}
